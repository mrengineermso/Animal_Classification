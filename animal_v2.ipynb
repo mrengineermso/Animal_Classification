{
 "cells": [
  {
   "cell_type": "code",
   "execution_count": 43,
   "id": "39d96fb9",
   "metadata": {
    "scrolled": false
   },
   "outputs": [],
   "source": [
    "import numpy as np\n",
    "import pandas as pd\n",
    "import os\n",
    "os.sys.path\n",
    "import matplotlib.pyplot as plt\n",
    "import tensorflow as tf\n",
    "import cv2\n",
    "from tensorflow.keras.utils import to_categorical\n",
    "from keras.models import load_model\n",
    "from tensorflow.keras.preprocessing.image import load_img, img_to_array\n",
    "from tensorflow.keras.preprocessing.image import ImageDataGenerator\n",
    "from sklearn.metrics import classification_report, log_loss, accuracy_score\n",
    "from sklearn.model_selection import train_test_split\n",
    "from tqdm import tqdm\n",
    "import random"
   ]
  },
  {
   "cell_type": "code",
   "execution_count": 44,
   "id": "a284c756",
   "metadata": {},
   "outputs": [],
   "source": [
    "data_dir = 'C:/Users/ASUS/Animal_Classification/animals'"
   ]
  },
  {
   "cell_type": "code",
   "execution_count": 45,
   "id": "3f75c5cb",
   "metadata": {},
   "outputs": [
    {
     "name": "stdout",
     "output_type": "stream",
     "text": [
      "['antelope', 'badger', 'bat', 'bear', 'bee', 'beetle', 'bison', 'boar', 'butterfly', 'cat', 'caterpillar', 'chimpanzee', 'cockroach', 'cow', 'coyote', 'crab', 'crow', 'deer', 'dog', 'dolphin', 'donkey', 'dragonfly', 'duck', 'eagle', 'elephant', 'flamingo', 'fly', 'fox', 'goat', 'goldfish', 'goose', 'gorilla', 'grasshopper', 'hamster', 'hare', 'hedgehog', 'hippopotamus', 'hornbill', 'horse', 'hummingbird', 'hyena', 'jellyfish', 'kangaroo', 'koala', 'ladybugs', 'leopard', 'lion', 'lizard', 'lobster', 'mosquito', 'moth', 'mouse', 'octopus', 'okapi', 'orangutan', 'otter', 'owl', 'ox', 'oyster', 'panda', 'parrot', 'pelecaniformes', 'penguin', 'pig', 'pigeon', 'porcupine', 'possum', 'raccoon', 'rat', 'reindeer', 'rhinoceros', 'sandpiper', 'seahorse', 'seal', 'shark', 'sheep', 'snake', 'sparrow', 'squid', 'squirrel', 'starfish', 'swan', 'tiger', 'turkey', 'turtle', 'whale', 'wolf', 'wombat', 'woodpecker', 'zebra']\n",
      "90\n"
     ]
    }
   ],
   "source": [
    "Name = os.listdir(data_dir)\n",
    "print(Name)\n",
    "print(len(Name))"
   ]
  },
  {
   "cell_type": "code",
   "execution_count": 46,
   "id": "d8336519",
   "metadata": {},
   "outputs": [],
   "source": [
    "N=list(range(len(Name)))\n",
    "normal_mapping=dict(zip(Name,N)) \n",
    "reverse_mapping=dict(zip(N,Name)) "
   ]
  },
  {
   "cell_type": "code",
   "execution_count": 47,
   "id": "c0043441",
   "metadata": {},
   "outputs": [
    {
     "name": "stdout",
     "output_type": "stream",
     "text": [
      "Found 4321 images belonging to 90 classes.\n",
      "Found 1080 images belonging to 90 classes.\n"
     ]
    }
   ],
   "source": [
    "# datagen = ImageDataGenerator(horizontal_flip=True,vertical_flip=True,rotation_range=20,zoom_range=0.2,\n",
    "#                         width_shift_range=0.2,height_shift_range=0.2,shear_range=0.1,fill_mode=\"nearest\")\n",
    "\n",
    "datagen = ImageDataGenerator(rotation_range=20,\n",
    "                             shear_range=10,\n",
    "                             validation_split=0.2)\n",
    "\n",
    "train_generator = datagen.flow_from_directory(data_dir,\n",
    "                                              target_size=(128,128),\n",
    "                                              subset='training')\n",
    "\n",
    "val_generator = datagen.flow_from_directory(data_dir,\n",
    "                                            target_size=(128,128),\n",
    "                                            subset='validation')"
   ]
  },
  {
   "cell_type": "code",
   "execution_count": 48,
   "id": "d33e6dd7",
   "metadata": {},
   "outputs": [],
   "source": [
    "pretrained_model3 = tf.keras.applications.VGG16(input_shape=(128,128,3),include_top=False,weights='imagenet',pooling='avg')\n",
    "pretrained_model3.trainable = False\n",
    "#Transfer learning "
   ]
  },
  {
   "cell_type": "code",
   "execution_count": 49,
   "id": "8435dea9",
   "metadata": {},
   "outputs": [],
   "source": [
    "inputs3 = pretrained_model3.input\n",
    "x3 = tf.keras.layers.Dense(128, activation='relu')(pretrained_model3.output)\n",
    "outputs3 = tf.keras.layers.Dense(len(Name), activation='softmax')(x3)\n",
    "model = tf.keras.Model(inputs=inputs3, outputs=outputs3)"
   ]
  },
  {
   "cell_type": "code",
   "execution_count": 50,
   "id": "05f22dfc",
   "metadata": {},
   "outputs": [],
   "source": [
    "model.compile(optimizer='adam',loss='categorical_crossentropy',metrics=['accuracy'])"
   ]
  },
  {
   "cell_type": "code",
   "execution_count": 11,
   "id": "e167d92a",
   "metadata": {},
   "outputs": [
    {
     "name": "stdout",
     "output_type": "stream",
     "text": [
      "Epoch 1/5\n",
      "135/135 [==============================] - 2411s 18s/step - loss: 5.6389 - accuracy: 0.0343 - val_loss: 4.3253 - val_accuracy: 0.0583\n",
      "Epoch 2/5\n",
      "135/135 [==============================] - 2415s 18s/step - loss: 3.8589 - accuracy: 0.1426 - val_loss: 3.6997 - val_accuracy: 0.1944\n",
      "Epoch 3/5\n",
      "135/135 [==============================] - 2582s 19s/step - loss: 2.9707 - accuracy: 0.3039 - val_loss: 3.1307 - val_accuracy: 0.2963\n",
      "Epoch 4/5\n",
      "135/135 [==============================] - 2642s 20s/step - loss: 2.2128 - accuracy: 0.4463 - val_loss: 2.7969 - val_accuracy: 0.3537\n",
      "Epoch 5/5\n",
      "135/135 [==============================] - 2832s 21s/step - loss: 1.7084 - accuracy: 0.5500 - val_loss: 2.5805 - val_accuracy: 0.4102\n"
     ]
    }
   ],
   "source": [
    "his=model.fit(train_generator,validation_data=val_generator,epochs=5)"
   ]
  },
  {
   "cell_type": "code",
   "execution_count": 51,
   "id": "ca9d37ca",
   "metadata": {},
   "outputs": [],
   "source": [
    "model.save('C:/Users/ASUS/Animal_Classification/model_weight.h5')"
   ]
  },
  {
   "cell_type": "code",
   "execution_count": 56,
   "id": "a58baf31",
   "metadata": {},
   "outputs": [],
   "source": [
    "his = load_model('C:/Users/ASUS/Animal_Classification/model_weight.h5')"
   ]
  },
  {
   "cell_type": "code",
   "execution_count": 57,
   "id": "703ff1f4",
   "metadata": {},
   "outputs": [],
   "source": [
    "image = cv2.imread('C:/Users/ASUS/Animal_Classification/animals/bear/0f6b575750.jpg')"
   ]
  },
  {
   "cell_type": "code",
   "execution_count": 58,
   "id": "864749e7",
   "metadata": {},
   "outputs": [
    {
     "data": {
      "text/plain": [
       "0"
      ]
     },
     "execution_count": 58,
     "metadata": {},
     "output_type": "execute_result"
    }
   ],
   "source": [
    "def predict (img,model):\n",
    "    img = cv2.resize(img,dsize=(128,128),interpolation=cv2.INTER_CUBIC)\n",
    "    img = np.expand_dims(img, axis = 0)\n",
    "    prediction = model.predict(img)\n",
    "    cname =np.argmax(prediction)\n",
    "    animal = reverse_mapping[cname]    \n",
    "    return animal\n",
    "    \n",
    "normal_mapping['antelope']\n",
    "    "
   ]
  },
  {
   "cell_type": "code",
   "execution_count": 59,
   "id": "c00bb8c3",
   "metadata": {},
   "outputs": [
    {
     "name": "stdout",
     "output_type": "stream",
     "text": [
      "1/1 [==============================] - 1s 851ms/step\n"
     ]
    },
    {
     "data": {
      "text/plain": [
       "'deer'"
      ]
     },
     "execution_count": 59,
     "metadata": {},
     "output_type": "execute_result"
    }
   ],
   "source": [
    "predict(image,model)"
   ]
  },
  {
   "cell_type": "code",
   "execution_count": null,
   "id": "baf7a98d",
   "metadata": {},
   "outputs": [],
   "source": []
  }
 ],
 "metadata": {
  "kernelspec": {
   "display_name": "Python 3 (ipykernel)",
   "language": "python",
   "name": "python3"
  },
  "language_info": {
   "codemirror_mode": {
    "name": "ipython",
    "version": 3
   },
   "file_extension": ".py",
   "mimetype": "text/x-python",
   "name": "python",
   "nbconvert_exporter": "python",
   "pygments_lexer": "ipython3",
   "version": "3.9.13"
  }
 },
 "nbformat": 4,
 "nbformat_minor": 5
}
